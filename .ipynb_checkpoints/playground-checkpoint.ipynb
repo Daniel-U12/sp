{
 "cells": [
  {
   "cell_type": "code",
   "execution_count": 82,
   "metadata": {},
   "outputs": [
    {
     "name": "stdout",
     "output_type": "stream",
     "text": [
      "{'A': {'0_ticker': 'AAPL',\n",
      "       'EBITDA/EV': '13.6724',\n",
      "       'EPS': '12.01',\n",
      "       'P/Book': '10.1842',\n",
      "       'P/E': '18.9226',\n",
      "       'P/Sales': '4.1328',\n",
      "       'P/cashflow': 15.428747212301742},\n",
      " 'Q': {'0_ticker': 'AAPL',\n",
      "       'EBITDA/EV': '12.0424',\n",
      "       'EPS': '2.2',\n",
      "       'P/Book': '9.5506',\n",
      "       'P/E': '17.0372',\n",
      "       'P/Sales': '3.58',\n",
      "       'P/cashflow': 102.66777708592777}}\n"
     ]
    }
   ],
   "source": [
    "import fmp_api as fmp\n",
    "import pprint as pp\n",
    "\n",
    "# print(\"METRICS\")\n",
    "# pp.pprint(fmp.get_metrics_q(\"AAPL\"))\n",
    "# print(\"BANKSTATEMENT\")\n",
    "# pp.pprint(fmp.get_bs_q(\"AAPL\"))\n",
    "# print(\"CASHFLOW\")\n",
    "# pp.pprint(fmp.get_cf_q(\"AAPL\"))\n",
    "# print(\"INCOME\")\n",
    "# pp.pprint(fmp.get_income_q(\"AAPL\"))\n",
    "# print(\"COMPANY PROFILE\")\n",
    "# pp.pprint(fmp.get_comp_profile(\"AAPL\"))\n",
    "\n",
    "def check_value_an(t):\n",
    "    metric_data_q = fmp.get_metrics_q(t)['metrics'][0]\n",
    "    income_data_q = fmp.get_income_q(t)['financials'][0]\n",
    "    profile_data_q = fmp.get_comp_profile(t)['profile']\n",
    "    cashflow_data_q = fmp.get_cf_q(t)['financials'][0]\n",
    "    \n",
    "    metric_data_a = fmp.get_metrics_an(t)['metrics'][0]\n",
    "    income_data_a = fmp.get_income_an(t)['financials'][0]\n",
    "    profile_data_a = fmp.get_comp_profile(t)['profile']\n",
    "    cashflow_data_a = fmp.get_cf_an(t)['financials'][0]\n",
    "    value_metrics = {\n",
    "            \"Q\": {\n",
    "                \"0_ticker\": t,\n",
    "                \"P/E\": metric_data_q[\"PE ratio\"],\n",
    "                \"P/Book\": metric_data_q[\"PB ratio\"],\n",
    "                \"P/Sales\": metric_data_q[\"Price to Sales Ratio\"],\n",
    "                \"EBITDA/EV\": metric_data_q[\"Enterprise Value over EBITDA\"],\n",
    "                \"EPS\": income_data_q[\"EPS\"],\n",
    "                \"P/cashflow\": profile_data_q[\"price\"] / (float(cashflow_data_q[\"Free Cash Flow\"])/ 4.53e9)\n",
    "            },\n",
    "            \"A\": {\n",
    "                \"0_ticker\": t,\n",
    "                \"P/E\": metric_data_a[\"PE ratio\"],\n",
    "                \"P/Book\": metric_data_a[\"PB ratio\"],\n",
    "                \"P/Sales\": metric_data_a[\"Price to Sales Ratio\"],\n",
    "                \"EBITDA/EV\": metric_data_a[\"Enterprise Value over EBITDA\"],\n",
    "                \"EPS\": income_data_a[\"EPS\"],\n",
    "                \"P/cashflow\": profile_data_a[\"price\"] / (float(cashflow_data_a[\"Free Cash Flow\"])/ 4.53e9)\n",
    "            }\n",
    "        }\n",
    "    return value_metrics\n",
    "    \n",
    "pp.pprint(check_value_an(\"AAPL\"))\n"
   ]
  },
  {
   "cell_type": "code",
   "execution_count": null,
   "metadata": {},
   "outputs": [],
   "source": []
  }
 ],
 "metadata": {
  "kernelspec": {
   "display_name": "Python 3",
   "language": "python",
   "name": "python3"
  },
  "language_info": {
   "codemirror_mode": {
    "name": "ipython",
    "version": 3
   },
   "file_extension": ".py",
   "mimetype": "text/x-python",
   "name": "python",
   "nbconvert_exporter": "python",
   "pygments_lexer": "ipython3",
   "version": "3.6.5"
  }
 },
 "nbformat": 4,
 "nbformat_minor": 2
}
